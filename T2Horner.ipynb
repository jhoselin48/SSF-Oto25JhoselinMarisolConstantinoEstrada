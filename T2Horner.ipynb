{
  "nbformat": 4,
  "nbformat_minor": 0,
  "metadata": {
    "colab": {
      "provenance": [],
      "authorship_tag": "ABX9TyM+i/ZTyu/4U5Cc5Mat0KGT",
      "include_colab_link": true
    },
    "kernelspec": {
      "name": "python3",
      "display_name": "Python 3"
    },
    "language_info": {
      "name": "python"
    }
  },
  "cells": [
    {
      "cell_type": "markdown",
      "metadata": {
        "id": "view-in-github",
        "colab_type": "text"
      },
      "source": [
        "<a href=\"https://colab.research.google.com/github/jhoselin48/SSF-Oto25JhoselinMarisolConstantinoEstrada/blob/main/Horner.ipynb\" target=\"_parent\"><img src=\"https://colab.research.google.com/assets/colab-badge.svg\" alt=\"Open In Colab\"/></a>"
      ]
    },
    {
      "cell_type": "code",
      "execution_count": 1,
      "metadata": {
        "colab": {
          "base_uri": "https://localhost:8080/"
        },
        "id": "tQH9ZO4xoPXQ",
        "outputId": "329ed820-e9ea-491e-effb-e91c324978b6"
      },
      "outputs": [
        {
          "output_type": "stream",
          "name": "stdout",
          "text": [
            "El valor evaluado del polinomio con x=2 (naive) es: 97\n",
            "El valor evaluado del polinomio con x=2 (iterativo) es: 97\n",
            "El valor evaluado del polinomio con x=2 (Horner) es: 97\n"
          ]
        },
        {
          "output_type": "execute_result",
          "data": {
            "text/plain": [
              "97"
            ]
          },
          "metadata": {},
          "execution_count": 1
        }
      ],
      "source": [
        "#Primer poligono=6*x^3+4*x^2+7*x+19;\n",
        "\n",
        "x=2;\n",
        "A=[19, 7, 4, 6]\n",
        "\n",
        "#Método de evaluación directa\n",
        "def poly_naive(A, x):\n",
        "    p = 0\n",
        "    for i, a in enumerate(A):\n",
        "        p += (x ** i) * a\n",
        "    print(f\"El valor evaluado del polinomio con x={x} (naive) es: {p}\")\n",
        "    return p\n",
        "\n",
        "#Método iterativo\n",
        "def poly_iter(A, x):\n",
        "    p = 0\n",
        "    xn = 1\n",
        "    for a in A:\n",
        "        p += xn * a\n",
        "        xn *= x\n",
        "    print(f\"El valor evaluado del polinomio con x={x} (iterativo) es: {p}\")\n",
        "    return p\n",
        "\n",
        "\n",
        "#Método de Horner\n",
        "def poly_horner(A, x):\n",
        "    p = A[-1]\n",
        "    i = len(A) - 2\n",
        "    while i >= 0:\n",
        "        p = p * x + A[i]\n",
        "        i -= 1 #i=i-1\n",
        "    print(f\"El valor evaluado del polinomio con x={x} (Horner) es: {p}\")\n",
        "    return p\n",
        "\n",
        "# Prueba\n",
        "poly_naive(A, x)\n",
        "poly_iter(A, x)\n",
        "poly_horner(A, x)"
      ]
    },
    {
      "cell_type": "code",
      "source": [
        "#Segundo poligono=2x^9 +0 +3x^7 +0 +0 +16x^4 +21x^3 +7x^2 +0 +5;\n",
        "\n",
        "x=2;\n",
        "A=[5, 0, 7, 21, 16, 0, 0, 3, 0, 2]\n",
        "\n",
        "#Método de evaluación directa\n",
        "def poly_naive(A, x):\n",
        "    p = 0\n",
        "    for i, a in enumerate(A):\n",
        "        p += (x ** i) * a\n",
        "    print(f\"El valor evaluado del polinomio con x={x} (naive) es: {p}\")\n",
        "    return p\n",
        "\n",
        "#Método iterativo\n",
        "def poly_iter(A, x):\n",
        "    p = 0\n",
        "    xn = 1\n",
        "    for a in A:\n",
        "        p += xn * a\n",
        "        xn *= x\n",
        "    print(f\"El valor evaluado del polinomio con x={x} (iterativo) es: {p}\")\n",
        "    return p\n",
        "\n",
        "\n",
        "#Método de Horner\n",
        "def poly_horner(A, x):\n",
        "    p = A[-1]\n",
        "    i = len(A) - 2\n",
        "    while i >= 0:\n",
        "        p = p * x + A[i]\n",
        "        i -= 1 #i=i-1\n",
        "    print(f\"El valor evaluado del polinomio con x={x} (Horner) es: {p}\")\n",
        "    return p\n",
        "\n",
        "# Prueba\n",
        "poly_naive(A, x)\n",
        "poly_iter(A, x)\n",
        "poly_horner(A, x)"
      ],
      "metadata": {
        "colab": {
          "base_uri": "https://localhost:8080/"
        },
        "id": "SvD36KbGoZss",
        "outputId": "5cc4e743-14bd-4a0f-ee50-66931850df2b"
      },
      "execution_count": 2,
      "outputs": [
        {
          "output_type": "stream",
          "name": "stdout",
          "text": [
            "El valor evaluado del polinomio con x=2 (naive) es: 1865\n",
            "El valor evaluado del polinomio con x=2 (iterativo) es: 1865\n",
            "El valor evaluado del polinomio con x=2 (Horner) es: 1865\n"
          ]
        },
        {
          "output_type": "execute_result",
          "data": {
            "text/plain": [
              "1865"
            ]
          },
          "metadata": {},
          "execution_count": 2
        }
      ]
    }
  ]
}
